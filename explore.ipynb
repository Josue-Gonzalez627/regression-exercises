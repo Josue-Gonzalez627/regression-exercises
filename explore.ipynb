{
 "cells": [
  {
   "cell_type": "markdown",
   "id": "85319a48-b0ac-4948-a691-0c6af00d57e2",
   "metadata": {},
   "source": [
    "<div class='alert alert-block alert-success'>\n",
    "    \n",
    "# Exercises (Exploration (Regression))"
   ]
  },
  {
   "cell_type": "markdown",
   "id": "7c4f6723-a34f-47f0-80ca-beb6d7abe4fc",
   "metadata": {},
   "source": [
    "<hr style='border:2px solid green'>"
   ]
  },
  {
   "cell_type": "markdown",
   "id": "91ceeff7-482f-424a-be44-980a3368a7cc",
   "metadata": {},
   "source": [
    "Our Zillow scenario continues:\n",
    "\n",
    "As a Codeup data science graduate, you want to show off your skills to the Zillow data science team in hopes of getting an interview for a position you saw pop up on LinkedIn. You thought it might look impressive to build an end-to-end project in which you use some of their Kaggle data to predict `property values` using some of their available features; who knows, you might even do some **feature engineering** to blow them away. Your goal is to predict the values of single unit properties using the observations from 2017."
   ]
  },
  {
   "cell_type": "markdown",
   "id": "817f83e1-cceb-42b4-9603-1b42b8b05cd3",
   "metadata": {},
   "source": [
    "In these exercises, you will run through the stages of exploration as you continue to work toward the above goal. Use only your train dataset to explore the relationships between independent variables with other independent variables or independent variables with your target variable."
   ]
  },
  {
   "cell_type": "code",
   "execution_count": 1,
   "id": "f9f8d1f7-c159-4b34-95e9-28819c7710bc",
   "metadata": {
    "tags": []
   },
   "outputs": [],
   "source": [
    "import os\n",
    "#standard ds imports\n",
    "import pandas as pd\n",
    "import numpy as np\n",
    "\n",
    "#viualization imports\n",
    "import matplotlib.pyplot as plt\n",
    "import seaborn as sns\n",
    "\n",
    "#stats imports\n",
    "from scipy.stats import pearsonr, spearmanr, ttest_ind\n",
    "\n",
    "#custom modules\n",
    "import wrangle as w\n",
    "\n",
    "#remove pink warning box\n",
    "import warnings\n",
    "warnings.filterwarnings('ignore')"
   ]
  },
  {
   "cell_type": "code",
   "execution_count": 2,
   "id": "8daba688-3c0a-489b-8980-49d95d1ac306",
   "metadata": {
    "tags": []
   },
   "outputs": [],
   "source": [
    "df = w.wrangle_zillow()"
   ]
  },
  {
   "cell_type": "code",
   "execution_count": 3,
   "id": "54c61228-e4c1-4021-b040-bdd273991a68",
   "metadata": {
    "tags": []
   },
   "outputs": [
    {
     "data": {
      "text/html": [
       "<div>\n",
       "<style scoped>\n",
       "    .dataframe tbody tr th:only-of-type {\n",
       "        vertical-align: middle;\n",
       "    }\n",
       "\n",
       "    .dataframe tbody tr th {\n",
       "        vertical-align: top;\n",
       "    }\n",
       "\n",
       "    .dataframe thead th {\n",
       "        text-align: right;\n",
       "    }\n",
       "</style>\n",
       "<table border=\"1\" class=\"dataframe\">\n",
       "  <thead>\n",
       "    <tr style=\"text-align: right;\">\n",
       "      <th></th>\n",
       "      <th>bathrooms</th>\n",
       "      <th>bedrooms</th>\n",
       "      <th>area</th>\n",
       "      <th>county</th>\n",
       "      <th>tax_amount</th>\n",
       "      <th>tax_value</th>\n",
       "      <th>year_built</th>\n",
       "    </tr>\n",
       "  </thead>\n",
       "  <tbody>\n",
       "    <tr>\n",
       "      <th>4</th>\n",
       "      <td>2.0</td>\n",
       "      <td>4</td>\n",
       "      <td>3633</td>\n",
       "      <td>LA</td>\n",
       "      <td>6941.39</td>\n",
       "      <td>296425</td>\n",
       "      <td>2005</td>\n",
       "    </tr>\n",
       "    <tr>\n",
       "      <th>6</th>\n",
       "      <td>4.0</td>\n",
       "      <td>3</td>\n",
       "      <td>1620</td>\n",
       "      <td>LA</td>\n",
       "      <td>10244.94</td>\n",
       "      <td>847770</td>\n",
       "      <td>2011</td>\n",
       "    </tr>\n",
       "    <tr>\n",
       "      <th>7</th>\n",
       "      <td>2.0</td>\n",
       "      <td>3</td>\n",
       "      <td>2077</td>\n",
       "      <td>LA</td>\n",
       "      <td>7924.68</td>\n",
       "      <td>646760</td>\n",
       "      <td>1926</td>\n",
       "    </tr>\n",
       "  </tbody>\n",
       "</table>\n",
       "</div>"
      ],
      "text/plain": [
       "   bathrooms  bedrooms  area county  tax_amount  tax_value  year_built\n",
       "4        2.0         4  3633     LA     6941.39     296425        2005\n",
       "6        4.0         3  1620     LA    10244.94     847770        2011\n",
       "7        2.0         3  2077     LA     7924.68     646760        1926"
      ]
     },
     "execution_count": 3,
     "metadata": {},
     "output_type": "execute_result"
    }
   ],
   "source": [
    "df.head(3)"
   ]
  },
  {
   "cell_type": "code",
   "execution_count": 4,
   "id": "e6005e50-b477-4daa-b106-19406951eb30",
   "metadata": {
    "tags": []
   },
   "outputs": [
    {
     "name": "stdout",
     "output_type": "stream",
     "text": [
      "train ----> (1284141, 7) 60%\n",
      "validate -> (428047, 7)  20%\n",
      "test -----> (428047, 7)  20%\n"
     ]
    }
   ],
   "source": [
    "train, validate, test = w.splitting_data(df)"
   ]
  },
  {
   "cell_type": "code",
   "execution_count": 5,
   "id": "c3e8f296-d8ed-4424-b233-74b057019de1",
   "metadata": {
    "tags": []
   },
   "outputs": [
    {
     "data": {
      "text/plain": [
       "bathrooms     float64\n",
       "bedrooms        int64\n",
       "area            int64\n",
       "county         object\n",
       "tax_amount    float64\n",
       "tax_value       int64\n",
       "year_built      int64\n",
       "dtype: object"
      ]
     },
     "execution_count": 5,
     "metadata": {},
     "output_type": "execute_result"
    }
   ],
   "source": [
    "df.dtypes"
   ]
  },
  {
   "cell_type": "code",
   "execution_count": 21,
   "id": "2628df2e-963d-4c00-ad96-7a75b00e9ef6",
   "metadata": {
    "tags": []
   },
   "outputs": [
    {
     "name": "stdout",
     "output_type": "stream",
     "text": [
      "Number of unique value counts in 'bathrooms': 33\n",
      "Number of unique value counts in 'bedrooms': 19\n",
      "Number of unique value counts in 'area': 1389\n",
      "Number of unique value counts in 'county': 3\n",
      "Number of unique value counts in 'tax_amount': 34\n",
      "Number of unique value counts in 'tax_value': 405\n",
      "Number of unique value counts in 'year_built': 141\n"
     ]
    }
   ],
   "source": [
    "for col in df.columns:\n",
    "    unique_value_counts = df[col].value_counts().nunique()\n",
    "    print(f\"Number of unique value counts in '{col}': {unique_value_counts}\")"
   ]
  },
  {
   "cell_type": "markdown",
   "id": "8e82c7fa-cfe3-4764-b1a9-011dcd429a6f",
   "metadata": {},
   "source": [
    "<div class=\"alert alert-block alert-info\"> \n",
    "\n",
    "* I created sample functions for df_sample to make a smaller version of Zillow\n",
    "* 10,000 rows before dropping nulls compared to over 2,000,000"
   ]
  },
  {
   "cell_type": "code",
   "execution_count": 9,
   "id": "7357a58c-88fd-4456-8d3c-72f8428dd03e",
   "metadata": {
    "tags": []
   },
   "outputs": [],
   "source": [
    "df_sample = w.wrangle_zillow_sample()"
   ]
  },
  {
   "cell_type": "code",
   "execution_count": 12,
   "id": "c767c777-c5e3-4bdf-a905-feacbbfdb0d1",
   "metadata": {
    "tags": []
   },
   "outputs": [
    {
     "data": {
      "text/html": [
       "<div>\n",
       "<style scoped>\n",
       "    .dataframe tbody tr th:only-of-type {\n",
       "        vertical-align: middle;\n",
       "    }\n",
       "\n",
       "    .dataframe tbody tr th {\n",
       "        vertical-align: top;\n",
       "    }\n",
       "\n",
       "    .dataframe thead th {\n",
       "        text-align: right;\n",
       "    }\n",
       "</style>\n",
       "<table border=\"1\" class=\"dataframe\">\n",
       "  <thead>\n",
       "    <tr style=\"text-align: right;\">\n",
       "      <th></th>\n",
       "      <th>bathrooms</th>\n",
       "      <th>bedrooms</th>\n",
       "      <th>area</th>\n",
       "      <th>county</th>\n",
       "      <th>tax_amount</th>\n",
       "      <th>tax_value</th>\n",
       "      <th>year_built</th>\n",
       "    </tr>\n",
       "  </thead>\n",
       "  <tbody>\n",
       "    <tr>\n",
       "      <th>4</th>\n",
       "      <td>2.0</td>\n",
       "      <td>4</td>\n",
       "      <td>3633</td>\n",
       "      <td>LA</td>\n",
       "      <td>6941.39</td>\n",
       "      <td>296425</td>\n",
       "      <td>2005</td>\n",
       "    </tr>\n",
       "    <tr>\n",
       "      <th>6</th>\n",
       "      <td>4.0</td>\n",
       "      <td>3</td>\n",
       "      <td>1620</td>\n",
       "      <td>LA</td>\n",
       "      <td>10244.94</td>\n",
       "      <td>847770</td>\n",
       "      <td>2011</td>\n",
       "    </tr>\n",
       "    <tr>\n",
       "      <th>7</th>\n",
       "      <td>2.0</td>\n",
       "      <td>3</td>\n",
       "      <td>2077</td>\n",
       "      <td>LA</td>\n",
       "      <td>7924.68</td>\n",
       "      <td>646760</td>\n",
       "      <td>1926</td>\n",
       "    </tr>\n",
       "  </tbody>\n",
       "</table>\n",
       "</div>"
      ],
      "text/plain": [
       "   bathrooms  bedrooms  area county  tax_amount  tax_value  year_built\n",
       "4        2.0         4  3633     LA     6941.39     296425        2005\n",
       "6        4.0         3  1620     LA    10244.94     847770        2011\n",
       "7        2.0         3  2077     LA     7924.68     646760        1926"
      ]
     },
     "execution_count": 12,
     "metadata": {},
     "output_type": "execute_result"
    }
   ],
   "source": [
    "df_sample.head(3)"
   ]
  },
  {
   "cell_type": "code",
   "execution_count": 11,
   "id": "8c4c215c-dd3a-48af-a912-d82140fab0da",
   "metadata": {
    "tags": []
   },
   "outputs": [
    {
     "data": {
      "text/plain": [
       "(9951, 7)"
      ]
     },
     "execution_count": 11,
     "metadata": {},
     "output_type": "execute_result"
    }
   ],
   "source": [
    "df_sample.shape"
   ]
  },
  {
   "cell_type": "code",
   "execution_count": 23,
   "id": "0d245cff-fc8b-4668-8049-556bbae3bcb4",
   "metadata": {
    "tags": []
   },
   "outputs": [
    {
     "name": "stdout",
     "output_type": "stream",
     "text": [
      "train ----> (5970, 7) 60%\n",
      "validate -> (1990, 7)  20%\n",
      "test -----> (1991, 7)  20%\n"
     ]
    }
   ],
   "source": [
    "train_sample, validate_sample, test_sample = w.splitting_data(df_sample)"
   ]
  },
  {
   "cell_type": "code",
   "execution_count": 24,
   "id": "894dc547-4743-4e4a-bd70-c9a3a60dfde2",
   "metadata": {
    "tags": []
   },
   "outputs": [
    {
     "data": {
      "text/html": [
       "<div>\n",
       "<style scoped>\n",
       "    .dataframe tbody tr th:only-of-type {\n",
       "        vertical-align: middle;\n",
       "    }\n",
       "\n",
       "    .dataframe tbody tr th {\n",
       "        vertical-align: top;\n",
       "    }\n",
       "\n",
       "    .dataframe thead th {\n",
       "        text-align: right;\n",
       "    }\n",
       "</style>\n",
       "<table border=\"1\" class=\"dataframe\">\n",
       "  <thead>\n",
       "    <tr style=\"text-align: right;\">\n",
       "      <th></th>\n",
       "      <th>bathrooms</th>\n",
       "      <th>bedrooms</th>\n",
       "      <th>area</th>\n",
       "      <th>county</th>\n",
       "      <th>tax_amount</th>\n",
       "      <th>tax_value</th>\n",
       "      <th>year_built</th>\n",
       "    </tr>\n",
       "  </thead>\n",
       "  <tbody>\n",
       "    <tr>\n",
       "      <th>1675</th>\n",
       "      <td>3.0</td>\n",
       "      <td>4</td>\n",
       "      <td>2107</td>\n",
       "      <td>LA</td>\n",
       "      <td>6604.44</td>\n",
       "      <td>528239</td>\n",
       "      <td>1967</td>\n",
       "    </tr>\n",
       "    <tr>\n",
       "      <th>4653</th>\n",
       "      <td>2.0</td>\n",
       "      <td>2</td>\n",
       "      <td>1416</td>\n",
       "      <td>LA</td>\n",
       "      <td>2906.84</td>\n",
       "      <td>229888</td>\n",
       "      <td>1923</td>\n",
       "    </tr>\n",
       "    <tr>\n",
       "      <th>1136</th>\n",
       "      <td>2.0</td>\n",
       "      <td>3</td>\n",
       "      <td>1753</td>\n",
       "      <td>LA</td>\n",
       "      <td>3342.26</td>\n",
       "      <td>272783</td>\n",
       "      <td>1970</td>\n",
       "    </tr>\n",
       "  </tbody>\n",
       "</table>\n",
       "</div>"
      ],
      "text/plain": [
       "      bathrooms  bedrooms  area county  tax_amount  tax_value  year_built\n",
       "1675        3.0         4  2107     LA     6604.44     528239        1967\n",
       "4653        2.0         2  1416     LA     2906.84     229888        1923\n",
       "1136        2.0         3  1753     LA     3342.26     272783        1970"
      ]
     },
     "execution_count": 24,
     "metadata": {},
     "output_type": "execute_result"
    }
   ],
   "source": [
    "train_sample.head(3)"
   ]
  },
  {
   "cell_type": "markdown",
   "id": "f759eaba-c226-496f-b783-a0d2cedd693c",
   "metadata": {
    "tags": []
   },
   "source": [
    "#### Target variable?\n",
    "* `tax_value`\n",
    "* continuous int64 feature AKA regression problem"
   ]
  },
  {
   "cell_type": "markdown",
   "id": "2d681437-9b88-4738-8beb-cbaebcb874fa",
   "metadata": {
    "tags": []
   },
   "source": [
    "#### Other variables of value?\n",
    "* `Continuous features` - bathrooms, bedrooms, area, tax_amount, tax_value, and year_built\n",
    "* `Categorical features` - county\n",
    "    * possibly bedrooms since there are 19 unique values"
   ]
  },
  {
   "cell_type": "markdown",
   "id": "758be3c7-764f-40af-bdbd-68589a111938",
   "metadata": {},
   "source": [
    "<hr style='border:2px solid green'>"
   ]
  },
  {
   "cell_type": "markdown",
   "id": "ba9c039e-d5ba-413f-9106-b14d70541a3c",
   "metadata": {},
   "source": [
    "## 1. Write a function named plot_variable_pairs that accepts a dataframe as input and plots all of the pairwise relationships along with the regression line for each pair."
   ]
  },
  {
   "cell_type": "code",
   "execution_count": 32,
   "id": "550be5e4-2d48-44b2-a5d5-db057c97766e",
   "metadata": {
    "tags": []
   },
   "outputs": [],
   "source": [
    "def plot_variable_pairs(df):\n",
    "    \"\"\"\n",
    "    - Accepts a dataframe as input\n",
    "    - Returns a plot and regression line for each pairwise relationship.\n",
    "\n",
    "    \"\"\"\n",
    "    # Set the style of the plot\n",
    "    sns.set(style=\"ticks\")\n",
    "\n",
    "    # Plot the pairwise relationships with regression line\n",
    "    sns.pairplot(df, kind=\"reg\")"
   ]
  },
  {
   "cell_type": "code",
   "execution_count": null,
   "id": "989d2f77-90e0-414c-8c88-aee40b86854f",
   "metadata": {
    "tags": []
   },
   "outputs": [],
   "source": [
    "plot_variable_pairs(df_sample)"
   ]
  },
  {
   "cell_type": "markdown",
   "id": "8f87ea4f-2f94-47ea-9d00-66598150d12d",
   "metadata": {},
   "source": [
    "## 2. Write a function named plot_categorical_and_continuous_vars that accepts your dataframe and the name of the columns that hold the continuous and categorical features and outputs 3 different plots for visualizing a categorical variable and a continuous variable."
   ]
  },
  {
   "cell_type": "code",
   "execution_count": null,
   "id": "d268deeb-3ee7-4fbd-aff4-a506b1c0ffb3",
   "metadata": {},
   "outputs": [],
   "source": []
  },
  {
   "cell_type": "code",
   "execution_count": null,
   "id": "f8237219-79c5-4f6a-b007-7fe288ebfafa",
   "metadata": {},
   "outputs": [],
   "source": []
  },
  {
   "cell_type": "markdown",
   "id": "6cb1e991-1be4-4591-a66d-953a4266256a",
   "metadata": {},
   "source": [
    "## 3. Save the functions you have written to create visualizations in your explore.py file. Rewrite your notebook code so that you are using the functions imported from this file."
   ]
  },
  {
   "cell_type": "code",
   "execution_count": null,
   "id": "54b67b75-e40c-4f96-8ae0-47d62f5bfd6c",
   "metadata": {},
   "outputs": [],
   "source": []
  },
  {
   "cell_type": "code",
   "execution_count": null,
   "id": "f1527764-b369-4092-bc4d-9b5fc2065504",
   "metadata": {},
   "outputs": [],
   "source": []
  },
  {
   "cell_type": "markdown",
   "id": "eb082cf2-d45e-4357-ae7f-6567a93f5d49",
   "metadata": {},
   "source": [
    "## 4. Use the functions you created above to explore your Zillow train dataset in your explore.ipynb notebook."
   ]
  },
  {
   "cell_type": "code",
   "execution_count": null,
   "id": "376eaab6-1bfa-47ee-85da-24d11c886234",
   "metadata": {},
   "outputs": [],
   "source": []
  },
  {
   "cell_type": "code",
   "execution_count": null,
   "id": "279fd5c0-56eb-405e-86de-c5cd9ce67ffe",
   "metadata": {},
   "outputs": [],
   "source": []
  },
  {
   "cell_type": "markdown",
   "id": "f675796a-6b18-4322-b752-1554591c46d2",
   "metadata": {},
   "source": [
    "## 5. Come up with some initial hypotheses based on your goal of predicting property value."
   ]
  },
  {
   "cell_type": "code",
   "execution_count": null,
   "id": "9546aabe-3d34-4b66-8296-504d0f7b5ab3",
   "metadata": {},
   "outputs": [],
   "source": []
  },
  {
   "cell_type": "code",
   "execution_count": null,
   "id": "990b06c8-31d8-4bb5-9b34-4f1f7e6938d9",
   "metadata": {},
   "outputs": [],
   "source": []
  },
  {
   "cell_type": "markdown",
   "id": "927b4371-bea9-4d25-a545-05d0736f2359",
   "metadata": {},
   "source": [
    "## 6. Visualize all combinations of variables in some way."
   ]
  },
  {
   "cell_type": "code",
   "execution_count": null,
   "id": "f7cef905-a083-4696-955a-d5ccfa7f9ecd",
   "metadata": {},
   "outputs": [],
   "source": []
  },
  {
   "cell_type": "code",
   "execution_count": null,
   "id": "d4ae1042-4854-49e2-8da8-12a1c87cedde",
   "metadata": {},
   "outputs": [],
   "source": []
  },
  {
   "cell_type": "markdown",
   "id": "ffdf32ae-a407-43c7-98f8-942b7aa2c6f2",
   "metadata": {},
   "source": [
    "## 7. Run the appropriate statistical tests where needed."
   ]
  },
  {
   "cell_type": "code",
   "execution_count": null,
   "id": "ef8e384c-3304-4992-ae12-a779be2fac6a",
   "metadata": {},
   "outputs": [],
   "source": []
  },
  {
   "cell_type": "code",
   "execution_count": null,
   "id": "fc8dc593-0735-4b42-bf14-6d8cee135683",
   "metadata": {},
   "outputs": [],
   "source": []
  },
  {
   "cell_type": "markdown",
   "id": "87830f05-ad4c-4322-a2af-ca23d7738d38",
   "metadata": {},
   "source": [
    "## 8. What independent variables are correlated with the dependent variable, home value?"
   ]
  },
  {
   "cell_type": "code",
   "execution_count": null,
   "id": "9006fd40-337f-461d-997b-64084e54c86f",
   "metadata": {},
   "outputs": [],
   "source": []
  },
  {
   "cell_type": "code",
   "execution_count": null,
   "id": "1feb7788-3719-4bd3-bd89-38aecfce000a",
   "metadata": {},
   "outputs": [],
   "source": []
  },
  {
   "cell_type": "markdown",
   "id": "57eea521-fe1b-48c9-a94d-03a02634939f",
   "metadata": {},
   "source": [
    "## 9. Which independent variables are correlated with other independent variables (bedrooms, bathrooms, year built, square feet)?"
   ]
  },
  {
   "cell_type": "code",
   "execution_count": null,
   "id": "e831a5be-ef2e-422b-a337-76e46d3b23e6",
   "metadata": {},
   "outputs": [],
   "source": []
  },
  {
   "cell_type": "code",
   "execution_count": null,
   "id": "26dd8955-3fe3-42f0-afb8-558c82398e4a",
   "metadata": {},
   "outputs": [],
   "source": []
  },
  {
   "cell_type": "markdown",
   "id": "2a4a1002-e8fa-4686-9c86-45b95d347eba",
   "metadata": {},
   "source": [
    "## 10. Make sure to document your takeaways from visualizations and statistical tests as well as the decisions you make throughout your process."
   ]
  },
  {
   "cell_type": "code",
   "execution_count": null,
   "id": "3d03f16d-f2eb-4d16-bc46-5d1030e0e197",
   "metadata": {},
   "outputs": [],
   "source": []
  },
  {
   "cell_type": "code",
   "execution_count": null,
   "id": "a187d60f-bfc0-4a41-810f-3804613a8947",
   "metadata": {},
   "outputs": [],
   "source": []
  },
  {
   "cell_type": "markdown",
   "id": "a5229b38-9635-45b3-bbd8-a70c64e4332b",
   "metadata": {},
   "source": [
    "## 11. Explore your dataset with any other visualizations you think will be helpful."
   ]
  },
  {
   "cell_type": "code",
   "execution_count": null,
   "id": "17eb80a9-f57a-448d-ba07-f053b992bf5e",
   "metadata": {},
   "outputs": [],
   "source": []
  },
  {
   "cell_type": "code",
   "execution_count": null,
   "id": "8d8b2267-7360-4f5f-95dc-d94d5358f05a",
   "metadata": {},
   "outputs": [],
   "source": []
  },
  {
   "cell_type": "markdown",
   "id": "cb58b064-7642-43df-8f8a-537b7063615e",
   "metadata": {},
   "source": [
    "<div class=\"alert alert-block alert-info\"> \n",
    "\n",
    "# Bonus Exercise"
   ]
  },
  {
   "cell_type": "markdown",
   "id": "4fd6c1a0-c373-4aed-b9de-1108d80fa055",
   "metadata": {},
   "source": [
    "## 1. In a separate notebook called explore_mall, use the functions you have developed in this exercise with the mall_customers dataset in the Codeup database server. You will need to write a sql query to acquire your data. Make spending_score your target variable."
   ]
  }
 ],
 "metadata": {
  "kernelspec": {
   "display_name": "Python 3 (ipykernel)",
   "language": "python",
   "name": "python3"
  },
  "language_info": {
   "codemirror_mode": {
    "name": "ipython",
    "version": 3
   },
   "file_extension": ".py",
   "mimetype": "text/x-python",
   "name": "python",
   "nbconvert_exporter": "python",
   "pygments_lexer": "ipython3",
   "version": "3.11.5"
  }
 },
 "nbformat": 4,
 "nbformat_minor": 5
}
