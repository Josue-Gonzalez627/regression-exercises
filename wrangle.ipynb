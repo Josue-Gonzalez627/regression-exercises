{
 "cells": [
  {
   "cell_type": "markdown",
   "id": "b0753bdf-2d1c-41e0-8379-32327bc8f13f",
   "metadata": {},
   "source": [
    "<div class='alert alert-block alert-success'>\n",
    "\n",
    "# Exercises II Regression (acquisition and prep)"
   ]
  },
  {
   "cell_type": "markdown",
   "id": "d13bb70a-5c8a-4937-8cc8-28d863c5c5b4",
   "metadata": {},
   "source": [
    "<hr style='border:2px solid green'>"
   ]
  },
  {
   "cell_type": "markdown",
   "id": "db948e90-9522-4343-abd6-025d3a9ce2f7",
   "metadata": {},
   "source": [
    "Let's set up an example scenario as perspective for our regression exercises using the Zillow dataset.\n",
    "\n",
    "As a Codeup data science graduate, you want to show off your skills to the Zillow data science team in hopes of getting an interview for a position you saw pop up on LinkedIn. You thought it might look impressive to build an end-to-end project in which you use some of their Kaggle data to predict property values using some of their available features; who knows, you might even do some feature engineering to blow them away. Your goal is to predict the values of single unit properties using the observations from 2017."
   ]
  },
  {
   "cell_type": "markdown",
   "id": "c14df4ee-527e-411c-8942-0741bb6af804",
   "metadata": {},
   "source": [
    "In these exercises, you will complete the first step toward the above goal: acquire and prepare the necessary Zillow data from the zillow database in the Codeup database server."
   ]
  },
  {
   "cell_type": "code",
   "execution_count": 1,
   "id": "38da5c85-0dfd-4ae7-bfc0-cbf1571dd56f",
   "metadata": {
    "tags": []
   },
   "outputs": [],
   "source": [
    "import os\n",
    "import wrangle as w\n",
    "\n",
    "#standard DS imports\n",
    "import pandas as pd\n",
    "import numpy as np\n",
    "\n",
    "#visualization imports\n",
    "import matplotlib.pyplot as plt\n",
    "import seaborn as sns\n",
    "\n",
    "#Connect to SQL DataBase\n",
    "import env"
   ]
  },
  {
   "cell_type": "markdown",
   "id": "9381abdb-c92c-4380-9c89-183df0bfe2fa",
   "metadata": {},
   "source": [
    "## 1. Acquire `bedroomcnt`, `bathroomcnt`, `calculatedfinishedsquarefeet`, `taxvaluedollarcnt`, `yearbuilt`, `taxamount`, and `fips` from the `zillow` database for all 'Single Family Residential' properties."
   ]
  },
  {
   "cell_type": "code",
   "execution_count": 2,
   "id": "01e4bec4-88d5-4adb-8dc0-9d484e1a48ab",
   "metadata": {
    "tags": []
   },
   "outputs": [],
   "source": [
    "### My function... fix it after the review ###\n",
    "\n",
    "# def get_zillow_data2():\n",
    "#     '''\n",
    "#     Retrieves the zillow dataframe. The MySQL query will return the 7 needed columns from the properties_2017 table.\n",
    "#     The check file function will assure the zillow file exists and what to do if it doesn't.\n",
    "#     '''\n",
    "#     url = env.get_db_url('zillow')\n",
    "#     query = '''\n",
    "#     Select bathroomcnt,\n",
    "#         bedroomcnt,\n",
    "#         calculatedfinishedsquarefeet, \n",
    "#         fips,\n",
    "#         taxamount,\n",
    "#         taxvaluedollarcnt,\n",
    "#         yearbuilt\n",
    "#     FROM properties_2017\n",
    "#     WHERE propertylandusetypeid = '261'\n",
    "#     LIMIT 100\n",
    "#     '''\n",
    "    \n",
    "#     filename = 'zillow.csv'\n",
    "\n",
    "#     #call the check_file_exists fuction \n",
    "#     df = check_file_exists(filename, query, url)\n",
    "#     return df"
   ]
  },
  {
   "cell_type": "code",
   "execution_count": 3,
   "id": "b341acab-fd00-425c-94a8-254622fa5398",
   "metadata": {
    "tags": []
   },
   "outputs": [],
   "source": [
    "url = env.get_db_url('zillow')\n",
    "query = '''\n",
    "    Select bathroomcnt,\n",
    "\t\tbedroomcnt,\n",
    "        calculatedfinishedsquarefeet, \n",
    "        fips,\n",
    "        taxamount,\n",
    "        taxvaluedollarcnt,\n",
    "        yearbuilt\n",
    "    FROM properties_2017\n",
    "    WHERE propertylandusetypeid = '261'\n",
    "    LIMIT 100\n",
    "    '''"
   ]
  },
  {
   "cell_type": "code",
   "execution_count": 4,
   "id": "c5ecd205-adc2-4ea9-b6d9-d7f257234237",
   "metadata": {
    "tags": []
   },
   "outputs": [
    {
     "data": {
      "text/html": [
       "<div>\n",
       "<style scoped>\n",
       "    .dataframe tbody tr th:only-of-type {\n",
       "        vertical-align: middle;\n",
       "    }\n",
       "\n",
       "    .dataframe tbody tr th {\n",
       "        vertical-align: top;\n",
       "    }\n",
       "\n",
       "    .dataframe thead th {\n",
       "        text-align: right;\n",
       "    }\n",
       "</style>\n",
       "<table border=\"1\" class=\"dataframe\">\n",
       "  <thead>\n",
       "    <tr style=\"text-align: right;\">\n",
       "      <th></th>\n",
       "      <th>bathroomcnt</th>\n",
       "      <th>bedroomcnt</th>\n",
       "      <th>calculatedfinishedsquarefeet</th>\n",
       "      <th>fips</th>\n",
       "      <th>taxamount</th>\n",
       "      <th>taxvaluedollarcnt</th>\n",
       "      <th>yearbuilt</th>\n",
       "    </tr>\n",
       "  </thead>\n",
       "  <tbody>\n",
       "    <tr>\n",
       "      <th>0</th>\n",
       "      <td>0.0</td>\n",
       "      <td>0.0</td>\n",
       "      <td>NaN</td>\n",
       "      <td>6037.0</td>\n",
       "      <td>NaN</td>\n",
       "      <td>27516.0</td>\n",
       "      <td>NaN</td>\n",
       "    </tr>\n",
       "    <tr>\n",
       "      <th>1</th>\n",
       "      <td>0.0</td>\n",
       "      <td>0.0</td>\n",
       "      <td>NaN</td>\n",
       "      <td>6037.0</td>\n",
       "      <td>NaN</td>\n",
       "      <td>10.0</td>\n",
       "      <td>NaN</td>\n",
       "    </tr>\n",
       "    <tr>\n",
       "      <th>2</th>\n",
       "      <td>0.0</td>\n",
       "      <td>0.0</td>\n",
       "      <td>NaN</td>\n",
       "      <td>6037.0</td>\n",
       "      <td>NaN</td>\n",
       "      <td>10.0</td>\n",
       "      <td>NaN</td>\n",
       "    </tr>\n",
       "    <tr>\n",
       "      <th>3</th>\n",
       "      <td>0.0</td>\n",
       "      <td>0.0</td>\n",
       "      <td>NaN</td>\n",
       "      <td>6037.0</td>\n",
       "      <td>174.21</td>\n",
       "      <td>2108.0</td>\n",
       "      <td>NaN</td>\n",
       "    </tr>\n",
       "    <tr>\n",
       "      <th>4</th>\n",
       "      <td>2.0</td>\n",
       "      <td>4.0</td>\n",
       "      <td>3633.0</td>\n",
       "      <td>6037.0</td>\n",
       "      <td>6941.39</td>\n",
       "      <td>296425.0</td>\n",
       "      <td>2005.0</td>\n",
       "    </tr>\n",
       "  </tbody>\n",
       "</table>\n",
       "</div>"
      ],
      "text/plain": [
       "   bathroomcnt  bedroomcnt  calculatedfinishedsquarefeet    fips  taxamount  \\\n",
       "0          0.0         0.0                           NaN  6037.0        NaN   \n",
       "1          0.0         0.0                           NaN  6037.0        NaN   \n",
       "2          0.0         0.0                           NaN  6037.0        NaN   \n",
       "3          0.0         0.0                           NaN  6037.0     174.21   \n",
       "4          2.0         4.0                        3633.0  6037.0    6941.39   \n",
       "\n",
       "   taxvaluedollarcnt  yearbuilt  \n",
       "0            27516.0        NaN  \n",
       "1               10.0        NaN  \n",
       "2               10.0        NaN  \n",
       "3             2108.0        NaN  \n",
       "4           296425.0     2005.0  "
      ]
     },
     "execution_count": 4,
     "metadata": {},
     "output_type": "execute_result"
    }
   ],
   "source": [
    "zillow_sample = pd.read_sql(query, url)\n",
    "zillow_sample.head()"
   ]
  },
  {
   "cell_type": "code",
   "execution_count": 5,
   "id": "fb91e3ff-eb74-4770-83ef-fa3200c702bc",
   "metadata": {
    "tags": []
   },
   "outputs": [],
   "source": [
    "### our acquire\n",
    "def get_zillow_data(): \n",
    "    filename = 'zillow.csv'\n",
    "    \n",
    "    if os.path.isfile(filename):    \n",
    "        return pd.read_csv(filename, index_col=0)\n",
    "    \n",
    "    else:\n",
    "        # Create the url\n",
    "        url = env.get_db_url('zillow')\n",
    "        \n",
    "        sql_query = '''\n",
    "        Select bathroomcnt,\n",
    "        bedroomcnt,\n",
    "        calculatedfinishedsquarefeet, \n",
    "        fips,\n",
    "        taxamount,\n",
    "        taxvaluedollarcnt,\n",
    "        yearbuilt\n",
    "        FROM properties_2017\n",
    "        WHERE propertylandusetypeid = '261'\n",
    "        '''\n",
    "    # Read the SQL query into a dataframe\n",
    "    df = pd.read_sql(sql_query, url)\n",
    "    \n",
    "    # Write that dataframe to disk for later. Called 'caching' the data for later\n",
    "    df.to_csv(filename)\n",
    "    \n",
    "    # Return the dataframe to the calling code\n",
    "    return df"
   ]
  },
  {
   "cell_type": "code",
   "execution_count": 6,
   "id": "dd994ad5-2b9e-4299-bd34-696dc39a10c8",
   "metadata": {
    "tags": []
   },
   "outputs": [],
   "source": [
    "df = get_zillow_data()"
   ]
  },
  {
   "cell_type": "code",
   "execution_count": 7,
   "id": "15b3b3a2-6c26-4885-8585-23da5fa2ff55",
   "metadata": {
    "tags": []
   },
   "outputs": [
    {
     "data": {
      "text/html": [
       "<div>\n",
       "<style scoped>\n",
       "    .dataframe tbody tr th:only-of-type {\n",
       "        vertical-align: middle;\n",
       "    }\n",
       "\n",
       "    .dataframe tbody tr th {\n",
       "        vertical-align: top;\n",
       "    }\n",
       "\n",
       "    .dataframe thead th {\n",
       "        text-align: right;\n",
       "    }\n",
       "</style>\n",
       "<table border=\"1\" class=\"dataframe\">\n",
       "  <thead>\n",
       "    <tr style=\"text-align: right;\">\n",
       "      <th></th>\n",
       "      <th>bathroomcnt</th>\n",
       "      <th>bedroomcnt</th>\n",
       "      <th>calculatedfinishedsquarefeet</th>\n",
       "      <th>fips</th>\n",
       "      <th>taxamount</th>\n",
       "      <th>taxvaluedollarcnt</th>\n",
       "      <th>yearbuilt</th>\n",
       "    </tr>\n",
       "  </thead>\n",
       "  <tbody>\n",
       "    <tr>\n",
       "      <th>0</th>\n",
       "      <td>0.0</td>\n",
       "      <td>0.0</td>\n",
       "      <td>NaN</td>\n",
       "      <td>6037.0</td>\n",
       "      <td>NaN</td>\n",
       "      <td>27516.0</td>\n",
       "      <td>NaN</td>\n",
       "    </tr>\n",
       "    <tr>\n",
       "      <th>1</th>\n",
       "      <td>0.0</td>\n",
       "      <td>0.0</td>\n",
       "      <td>NaN</td>\n",
       "      <td>6037.0</td>\n",
       "      <td>NaN</td>\n",
       "      <td>10.0</td>\n",
       "      <td>NaN</td>\n",
       "    </tr>\n",
       "    <tr>\n",
       "      <th>2</th>\n",
       "      <td>0.0</td>\n",
       "      <td>0.0</td>\n",
       "      <td>NaN</td>\n",
       "      <td>6037.0</td>\n",
       "      <td>NaN</td>\n",
       "      <td>10.0</td>\n",
       "      <td>NaN</td>\n",
       "    </tr>\n",
       "    <tr>\n",
       "      <th>3</th>\n",
       "      <td>0.0</td>\n",
       "      <td>0.0</td>\n",
       "      <td>NaN</td>\n",
       "      <td>6037.0</td>\n",
       "      <td>174.21</td>\n",
       "      <td>2108.0</td>\n",
       "      <td>NaN</td>\n",
       "    </tr>\n",
       "    <tr>\n",
       "      <th>4</th>\n",
       "      <td>2.0</td>\n",
       "      <td>4.0</td>\n",
       "      <td>3633.0</td>\n",
       "      <td>6037.0</td>\n",
       "      <td>6941.39</td>\n",
       "      <td>296425.0</td>\n",
       "      <td>2005.0</td>\n",
       "    </tr>\n",
       "  </tbody>\n",
       "</table>\n",
       "</div>"
      ],
      "text/plain": [
       "   bathroomcnt  bedroomcnt  calculatedfinishedsquarefeet    fips  taxamount  \\\n",
       "0          0.0         0.0                           NaN  6037.0        NaN   \n",
       "1          0.0         0.0                           NaN  6037.0        NaN   \n",
       "2          0.0         0.0                           NaN  6037.0        NaN   \n",
       "3          0.0         0.0                           NaN  6037.0     174.21   \n",
       "4          2.0         4.0                        3633.0  6037.0    6941.39   \n",
       "\n",
       "   taxvaluedollarcnt  yearbuilt  \n",
       "0            27516.0        NaN  \n",
       "1               10.0        NaN  \n",
       "2               10.0        NaN  \n",
       "3             2108.0        NaN  \n",
       "4           296425.0     2005.0  "
      ]
     },
     "execution_count": 7,
     "metadata": {},
     "output_type": "execute_result"
    }
   ],
   "source": [
    "df.head()"
   ]
  },
  {
   "cell_type": "markdown",
   "id": "b7df6884-462a-4e50-ad87-924f1b80babf",
   "metadata": {},
   "source": [
    "## 2. Using your acquired Zillow data, walk through the summarization and cleaning steps in your wrangle.ipynb file like we did above. You may handle the missing values however you feel is appropriate and meaningful; remember to document your process and decisions using markdown and code commenting where helpful."
   ]
  },
  {
   "cell_type": "code",
   "execution_count": 8,
   "id": "8abcc1f1-f021-4e88-a4d8-ec9ff692094a",
   "metadata": {
    "tags": []
   },
   "outputs": [
    {
     "name": "stdout",
     "output_type": "stream",
     "text": [
      "<class 'pandas.core.frame.DataFrame'>\n",
      "Index: 2152863 entries, 0 to 2152862\n",
      "Data columns (total 7 columns):\n",
      " #   Column                        Dtype  \n",
      "---  ------                        -----  \n",
      " 0   bathroomcnt                   float64\n",
      " 1   bedroomcnt                    float64\n",
      " 2   calculatedfinishedsquarefeet  float64\n",
      " 3   fips                          float64\n",
      " 4   taxamount                     float64\n",
      " 5   taxvaluedollarcnt             float64\n",
      " 6   yearbuilt                     float64\n",
      "dtypes: float64(7)\n",
      "memory usage: 131.4 MB\n"
     ]
    }
   ],
   "source": [
    "# datatypes, nulls and column names\n",
    "df.info()"
   ]
  },
  {
   "cell_type": "code",
   "execution_count": 9,
   "id": "7f2538bb-e985-46a2-9a82-15216b242a1b",
   "metadata": {
    "tags": []
   },
   "outputs": [
    {
     "name": "stdout",
     "output_type": "stream",
     "text": [
      "<class 'pandas.core.frame.DataFrame'>\n",
      "Index: 2152863 entries, 0 to 2152862\n",
      "Data columns (total 7 columns):\n",
      " #   Column                        Non-Null Count    Dtype  \n",
      "---  ------                        --------------    -----  \n",
      " 0   bathroomcnt                   2152852 non-null  float64\n",
      " 1   bedroomcnt                    2152852 non-null  float64\n",
      " 2   calculatedfinishedsquarefeet  2144379 non-null  float64\n",
      " 3   fips                          2152863 non-null  float64\n",
      " 4   taxamount                     2148421 non-null  float64\n",
      " 5   taxvaluedollarcnt             2152370 non-null  float64\n",
      " 6   yearbuilt                     2143526 non-null  float64\n",
      "dtypes: float64(7)\n",
      "memory usage: 131.4 MB\n"
     ]
    }
   ],
   "source": [
    "df.info(verbose=True, show_counts=True)"
   ]
  },
  {
   "cell_type": "code",
   "execution_count": 10,
   "id": "290aa902-7c3c-48b0-be3c-8a4c7df6b237",
   "metadata": {
    "tags": []
   },
   "outputs": [
    {
     "data": {
      "text/html": [
       "<div>\n",
       "<style scoped>\n",
       "    .dataframe tbody tr th:only-of-type {\n",
       "        vertical-align: middle;\n",
       "    }\n",
       "\n",
       "    .dataframe tbody tr th {\n",
       "        vertical-align: top;\n",
       "    }\n",
       "\n",
       "    .dataframe thead th {\n",
       "        text-align: right;\n",
       "    }\n",
       "</style>\n",
       "<table border=\"1\" class=\"dataframe\">\n",
       "  <thead>\n",
       "    <tr style=\"text-align: right;\">\n",
       "      <th></th>\n",
       "      <th>count</th>\n",
       "      <th>mean</th>\n",
       "      <th>std</th>\n",
       "      <th>min</th>\n",
       "      <th>25%</th>\n",
       "      <th>50%</th>\n",
       "      <th>75%</th>\n",
       "      <th>max</th>\n",
       "    </tr>\n",
       "  </thead>\n",
       "  <tbody>\n",
       "    <tr>\n",
       "      <th>bathroomcnt</th>\n",
       "      <td>2152852.0</td>\n",
       "      <td>2.230688</td>\n",
       "      <td>0.999280</td>\n",
       "      <td>0.00</td>\n",
       "      <td>2.00</td>\n",
       "      <td>2.00</td>\n",
       "      <td>3.00</td>\n",
       "      <td>32.00</td>\n",
       "    </tr>\n",
       "    <tr>\n",
       "      <th>bedroomcnt</th>\n",
       "      <td>2152852.0</td>\n",
       "      <td>3.287196</td>\n",
       "      <td>0.954754</td>\n",
       "      <td>0.00</td>\n",
       "      <td>3.00</td>\n",
       "      <td>3.00</td>\n",
       "      <td>4.00</td>\n",
       "      <td>25.00</td>\n",
       "    </tr>\n",
       "    <tr>\n",
       "      <th>calculatedfinishedsquarefeet</th>\n",
       "      <td>2144379.0</td>\n",
       "      <td>1862.855178</td>\n",
       "      <td>1222.125124</td>\n",
       "      <td>1.00</td>\n",
       "      <td>1257.00</td>\n",
       "      <td>1623.00</td>\n",
       "      <td>2208.00</td>\n",
       "      <td>952576.00</td>\n",
       "    </tr>\n",
       "    <tr>\n",
       "      <th>fips</th>\n",
       "      <td>2152863.0</td>\n",
       "      <td>6048.377335</td>\n",
       "      <td>20.433292</td>\n",
       "      <td>6037.00</td>\n",
       "      <td>6037.00</td>\n",
       "      <td>6037.00</td>\n",
       "      <td>6059.00</td>\n",
       "      <td>6111.00</td>\n",
       "    </tr>\n",
       "    <tr>\n",
       "      <th>taxamount</th>\n",
       "      <td>2148421.0</td>\n",
       "      <td>5634.865978</td>\n",
       "      <td>8178.910249</td>\n",
       "      <td>1.85</td>\n",
       "      <td>2534.98</td>\n",
       "      <td>4108.95</td>\n",
       "      <td>6414.32</td>\n",
       "      <td>1337755.86</td>\n",
       "    </tr>\n",
       "    <tr>\n",
       "      <th>taxvaluedollarcnt</th>\n",
       "      <td>2152370.0</td>\n",
       "      <td>461896.237963</td>\n",
       "      <td>699676.049600</td>\n",
       "      <td>1.00</td>\n",
       "      <td>188170.25</td>\n",
       "      <td>327671.00</td>\n",
       "      <td>534527.00</td>\n",
       "      <td>98428909.00</td>\n",
       "    </tr>\n",
       "    <tr>\n",
       "      <th>yearbuilt</th>\n",
       "      <td>2143526.0</td>\n",
       "      <td>1960.949681</td>\n",
       "      <td>22.162196</td>\n",
       "      <td>1801.00</td>\n",
       "      <td>1949.00</td>\n",
       "      <td>1958.00</td>\n",
       "      <td>1976.00</td>\n",
       "      <td>2016.00</td>\n",
       "    </tr>\n",
       "  </tbody>\n",
       "</table>\n",
       "</div>"
      ],
      "text/plain": [
       "                                  count           mean            std  \\\n",
       "bathroomcnt                   2152852.0       2.230688       0.999280   \n",
       "bedroomcnt                    2152852.0       3.287196       0.954754   \n",
       "calculatedfinishedsquarefeet  2144379.0    1862.855178    1222.125124   \n",
       "fips                          2152863.0    6048.377335      20.433292   \n",
       "taxamount                     2148421.0    5634.865978    8178.910249   \n",
       "taxvaluedollarcnt             2152370.0  461896.237963  699676.049600   \n",
       "yearbuilt                     2143526.0    1960.949681      22.162196   \n",
       "\n",
       "                                  min        25%        50%        75%  \\\n",
       "bathroomcnt                      0.00       2.00       2.00       3.00   \n",
       "bedroomcnt                       0.00       3.00       3.00       4.00   \n",
       "calculatedfinishedsquarefeet     1.00    1257.00    1623.00    2208.00   \n",
       "fips                          6037.00    6037.00    6037.00    6059.00   \n",
       "taxamount                        1.85    2534.98    4108.95    6414.32   \n",
       "taxvaluedollarcnt                1.00  188170.25  327671.00  534527.00   \n",
       "yearbuilt                     1801.00    1949.00    1958.00    1976.00   \n",
       "\n",
       "                                      max  \n",
       "bathroomcnt                         32.00  \n",
       "bedroomcnt                          25.00  \n",
       "calculatedfinishedsquarefeet    952576.00  \n",
       "fips                              6111.00  \n",
       "taxamount                      1337755.86  \n",
       "taxvaluedollarcnt             98428909.00  \n",
       "yearbuilt                         2016.00  "
      ]
     },
     "execution_count": 10,
     "metadata": {},
     "output_type": "execute_result"
    }
   ],
   "source": [
    "df.describe().T"
   ]
  },
  {
   "cell_type": "code",
   "execution_count": 11,
   "id": "5ff810b4-39f9-4765-9647-6d9a1fe92a7a",
   "metadata": {
    "tags": []
   },
   "outputs": [
    {
     "data": {
      "text/plain": [
       "fips\n",
       "6037.0    1431811\n",
       "6059.0     555077\n",
       "6111.0     165975\n",
       "Name: count, dtype: int64"
      ]
     },
     "execution_count": 11,
     "metadata": {},
     "output_type": "execute_result"
    }
   ],
   "source": [
    "df.fips.value_counts()"
   ]
  },
  {
   "cell_type": "markdown",
   "id": "95e051cc-08a5-420d-92a5-99c98ddc2111",
   "metadata": {},
   "source": [
    "<hr style='border:2px solid green'>"
   ]
  },
  {
   "cell_type": "markdown",
   "id": "527b293e-0dde-41cb-a660-efb04af591f5",
   "metadata": {},
   "source": [
    "### Clean the columns"
   ]
  },
  {
   "cell_type": "code",
   "execution_count": 12,
   "id": "10aa4018-df34-4ccd-a4b5-b12705b6bb23",
   "metadata": {
    "tags": []
   },
   "outputs": [],
   "source": [
    "df = df.rename(columns={'bedroomcnt': 'bedrooms',\n",
    "                        'bathroomcnt': 'bathrooms',\n",
    "                        'calculatedfinishedsquarefeet': 'area',\n",
    "                        'taxamount': 'tax_amount',\n",
    "                        'taxvaluedollarcnt': 'tax_value',\n",
    "                        'yearbuilt': 'year_built',\n",
    "                        'fips': 'county'})"
   ]
  },
  {
   "cell_type": "code",
   "execution_count": 13,
   "id": "83ea6a67-caae-4a35-8b14-ef4dbfa16b8a",
   "metadata": {
    "tags": []
   },
   "outputs": [
    {
     "data": {
      "text/plain": [
       "Index(['bathrooms', 'bedrooms', 'area', 'county', 'tax_amount', 'tax_value',\n",
       "       'year_built'],\n",
       "      dtype='object')"
      ]
     },
     "execution_count": 13,
     "metadata": {},
     "output_type": "execute_result"
    }
   ],
   "source": [
    "df.columns"
   ]
  },
  {
   "cell_type": "code",
   "execution_count": 14,
   "id": "0cf182a0-8d0d-4d4e-89c2-6e02ab7987d0",
   "metadata": {
    "tags": []
   },
   "outputs": [
    {
     "data": {
      "text/html": [
       "<div>\n",
       "<style scoped>\n",
       "    .dataframe tbody tr th:only-of-type {\n",
       "        vertical-align: middle;\n",
       "    }\n",
       "\n",
       "    .dataframe tbody tr th {\n",
       "        vertical-align: top;\n",
       "    }\n",
       "\n",
       "    .dataframe thead th {\n",
       "        text-align: right;\n",
       "    }\n",
       "</style>\n",
       "<table border=\"1\" class=\"dataframe\">\n",
       "  <thead>\n",
       "    <tr style=\"text-align: right;\">\n",
       "      <th></th>\n",
       "      <th>bathrooms</th>\n",
       "      <th>bedrooms</th>\n",
       "      <th>area</th>\n",
       "      <th>county</th>\n",
       "      <th>tax_amount</th>\n",
       "      <th>tax_value</th>\n",
       "      <th>year_built</th>\n",
       "    </tr>\n",
       "  </thead>\n",
       "  <tbody>\n",
       "    <tr>\n",
       "      <th>0</th>\n",
       "      <td>0.0</td>\n",
       "      <td>0.0</td>\n",
       "      <td>NaN</td>\n",
       "      <td>6037.0</td>\n",
       "      <td>NaN</td>\n",
       "      <td>27516.0</td>\n",
       "      <td>NaN</td>\n",
       "    </tr>\n",
       "    <tr>\n",
       "      <th>1</th>\n",
       "      <td>0.0</td>\n",
       "      <td>0.0</td>\n",
       "      <td>NaN</td>\n",
       "      <td>6037.0</td>\n",
       "      <td>NaN</td>\n",
       "      <td>10.0</td>\n",
       "      <td>NaN</td>\n",
       "    </tr>\n",
       "    <tr>\n",
       "      <th>2</th>\n",
       "      <td>0.0</td>\n",
       "      <td>0.0</td>\n",
       "      <td>NaN</td>\n",
       "      <td>6037.0</td>\n",
       "      <td>NaN</td>\n",
       "      <td>10.0</td>\n",
       "      <td>NaN</td>\n",
       "    </tr>\n",
       "    <tr>\n",
       "      <th>3</th>\n",
       "      <td>0.0</td>\n",
       "      <td>0.0</td>\n",
       "      <td>NaN</td>\n",
       "      <td>6037.0</td>\n",
       "      <td>174.21</td>\n",
       "      <td>2108.0</td>\n",
       "      <td>NaN</td>\n",
       "    </tr>\n",
       "    <tr>\n",
       "      <th>4</th>\n",
       "      <td>2.0</td>\n",
       "      <td>4.0</td>\n",
       "      <td>3633.0</td>\n",
       "      <td>6037.0</td>\n",
       "      <td>6941.39</td>\n",
       "      <td>296425.0</td>\n",
       "      <td>2005.0</td>\n",
       "    </tr>\n",
       "  </tbody>\n",
       "</table>\n",
       "</div>"
      ],
      "text/plain": [
       "   bathrooms  bedrooms    area  county  tax_amount  tax_value  year_built\n",
       "0        0.0       0.0     NaN  6037.0         NaN    27516.0         NaN\n",
       "1        0.0       0.0     NaN  6037.0         NaN       10.0         NaN\n",
       "2        0.0       0.0     NaN  6037.0         NaN       10.0         NaN\n",
       "3        0.0       0.0     NaN  6037.0      174.21     2108.0         NaN\n",
       "4        2.0       4.0  3633.0  6037.0     6941.39   296425.0      2005.0"
      ]
     },
     "execution_count": 14,
     "metadata": {},
     "output_type": "execute_result"
    }
   ],
   "source": [
    "df.head()"
   ]
  },
  {
   "cell_type": "markdown",
   "id": "49b6e5d9-2101-4fc1-a8d5-57f1ca69aa69",
   "metadata": {
    "tags": []
   },
   "source": [
    "<hr style='border:2px solid green'>"
   ]
  },
  {
   "cell_type": "markdown",
   "id": "122df718-91bc-4eee-9ff9-c95331955c11",
   "metadata": {},
   "source": [
    "### Handle Null Values"
   ]
  },
  {
   "cell_type": "code",
   "execution_count": 15,
   "id": "2a8ec041-e2bc-46e8-9fcc-368417098714",
   "metadata": {
    "tags": []
   },
   "outputs": [
    {
     "data": {
      "text/plain": [
       "['bathrooms',\n",
       " 'bedrooms',\n",
       " 'area',\n",
       " 'county',\n",
       " 'tax_amount',\n",
       " 'tax_value',\n",
       " 'year_built']"
      ]
     },
     "execution_count": 15,
     "metadata": {},
     "output_type": "execute_result"
    }
   ],
   "source": [
    "col = df.columns.to_list()\n",
    "col"
   ]
  },
  {
   "cell_type": "code",
   "execution_count": 16,
   "id": "5cb5f4ce-b5e5-4681-918c-4bf5b879c760",
   "metadata": {
    "tags": []
   },
   "outputs": [
    {
     "data": {
      "text/plain": [
       "bathrooms       11\n",
       "bedrooms        11\n",
       "area          8484\n",
       "county           0\n",
       "tax_amount    4442\n",
       "tax_value      493\n",
       "year_built    9337\n",
       "dtype: int64"
      ]
     },
     "execution_count": 16,
     "metadata": {},
     "output_type": "execute_result"
    }
   ],
   "source": [
    "num_missing = df[col].isnull().sum()\n",
    "num_missing"
   ]
  },
  {
   "cell_type": "code",
   "execution_count": 17,
   "id": "41161cdf-6e7b-4c7f-b0b0-b8c61f4add3c",
   "metadata": {
    "tags": []
   },
   "outputs": [
    {
     "data": {
      "text/plain": [
       "bathrooms     0.000005\n",
       "bedrooms      0.000005\n",
       "area          0.003941\n",
       "county        0.000000\n",
       "tax_amount    0.002063\n",
       "tax_value     0.000229\n",
       "year_built    0.004337\n",
       "dtype: float64"
      ]
     },
     "execution_count": 17,
     "metadata": {},
     "output_type": "execute_result"
    }
   ],
   "source": [
    "pct_missing = num_missing/df.shape[0]\n",
    "pct_missing\n",
    "### 9,000 + missing for yearbuilt sounds like a lot but is actually only .4% missing so not bad."
   ]
  },
  {
   "cell_type": "code",
   "execution_count": 18,
   "id": "e2224a3e-f433-4561-be9a-d3254cd01517",
   "metadata": {
    "tags": []
   },
   "outputs": [],
   "source": [
    "df = df.dropna()"
   ]
  },
  {
   "cell_type": "markdown",
   "id": "a755900f-43d3-4840-9f10-b89b0040c8ef",
   "metadata": {},
   "source": [
    "<div class='alert alert-block alert-success'>\n",
    "<b>NOTE:</b>\n",
    "    \n",
    "- To drop nulls in specific columns\n",
    "- df.dropna(subset=['bedrooms', 'bathrooms'])"
   ]
  },
  {
   "cell_type": "code",
   "execution_count": 19,
   "id": "7c0ecf99-8941-44d1-9314-08d6ce8bfcf0",
   "metadata": {
    "tags": []
   },
   "outputs": [
    {
     "data": {
      "text/plain": [
       "bathrooms     0\n",
       "bedrooms      0\n",
       "area          0\n",
       "county        0\n",
       "tax_amount    0\n",
       "tax_value     0\n",
       "year_built    0\n",
       "dtype: int64"
      ]
     },
     "execution_count": 19,
     "metadata": {},
     "output_type": "execute_result"
    }
   ],
   "source": [
    "### Dropped ALL nulls because they weren't much compared to the amount of data\n",
    "df.isnull().sum()"
   ]
  },
  {
   "cell_type": "markdown",
   "id": "956ac243-f483-40a0-90a9-029138fda85e",
   "metadata": {},
   "source": [
    "<hr style='border:2px solid green'>"
   ]
  },
  {
   "cell_type": "markdown",
   "id": "9f2604bb-3e52-46f5-871c-2d73ec1ed8fc",
   "metadata": {},
   "source": [
    "### Check Our Datatypes"
   ]
  },
  {
   "cell_type": "code",
   "execution_count": 20,
   "id": "b6969129-1048-443c-a97d-99296700940a",
   "metadata": {
    "tags": []
   },
   "outputs": [
    {
     "data": {
      "text/plain": [
       "bathrooms     float64\n",
       "bedrooms      float64\n",
       "area          float64\n",
       "county        float64\n",
       "tax_amount    float64\n",
       "tax_value     float64\n",
       "year_built    float64\n",
       "dtype: object"
      ]
     },
     "execution_count": 20,
     "metadata": {},
     "output_type": "execute_result"
    }
   ],
   "source": [
    "df.dtypes\n",
    "### let's see which to change... \n",
    "### can't have half a bedroom or won't be using a fraction of a year"
   ]
  },
  {
   "cell_type": "code",
   "execution_count": 21,
   "id": "7b6769a0-9947-4197-9c27-6c74381c3325",
   "metadata": {
    "tags": []
   },
   "outputs": [
    {
     "data": {
      "text/html": [
       "<div>\n",
       "<style scoped>\n",
       "    .dataframe tbody tr th:only-of-type {\n",
       "        vertical-align: middle;\n",
       "    }\n",
       "\n",
       "    .dataframe tbody tr th {\n",
       "        vertical-align: top;\n",
       "    }\n",
       "\n",
       "    .dataframe thead th {\n",
       "        text-align: right;\n",
       "    }\n",
       "</style>\n",
       "<table border=\"1\" class=\"dataframe\">\n",
       "  <thead>\n",
       "    <tr style=\"text-align: right;\">\n",
       "      <th></th>\n",
       "      <th>bathrooms</th>\n",
       "      <th>bedrooms</th>\n",
       "      <th>area</th>\n",
       "      <th>county</th>\n",
       "      <th>tax_amount</th>\n",
       "      <th>tax_value</th>\n",
       "      <th>year_built</th>\n",
       "    </tr>\n",
       "  </thead>\n",
       "  <tbody>\n",
       "    <tr>\n",
       "      <th>4</th>\n",
       "      <td>2.0</td>\n",
       "      <td>4.0</td>\n",
       "      <td>3633.0</td>\n",
       "      <td>6037.0</td>\n",
       "      <td>6941.39</td>\n",
       "      <td>296425.0</td>\n",
       "      <td>2005.0</td>\n",
       "    </tr>\n",
       "    <tr>\n",
       "      <th>6</th>\n",
       "      <td>4.0</td>\n",
       "      <td>3.0</td>\n",
       "      <td>1620.0</td>\n",
       "      <td>6037.0</td>\n",
       "      <td>10244.94</td>\n",
       "      <td>847770.0</td>\n",
       "      <td>2011.0</td>\n",
       "    </tr>\n",
       "    <tr>\n",
       "      <th>7</th>\n",
       "      <td>2.0</td>\n",
       "      <td>3.0</td>\n",
       "      <td>2077.0</td>\n",
       "      <td>6037.0</td>\n",
       "      <td>7924.68</td>\n",
       "      <td>646760.0</td>\n",
       "      <td>1926.0</td>\n",
       "    </tr>\n",
       "  </tbody>\n",
       "</table>\n",
       "</div>"
      ],
      "text/plain": [
       "   bathrooms  bedrooms    area  county  tax_amount  tax_value  year_built\n",
       "4        2.0       4.0  3633.0  6037.0     6941.39   296425.0      2005.0\n",
       "6        4.0       3.0  1620.0  6037.0    10244.94   847770.0      2011.0\n",
       "7        2.0       3.0  2077.0  6037.0     7924.68   646760.0      1926.0"
      ]
     },
     "execution_count": 21,
     "metadata": {},
     "output_type": "execute_result"
    }
   ],
   "source": [
    "df.head(3)"
   ]
  },
  {
   "cell_type": "code",
   "execution_count": 22,
   "id": "49c231ed-d312-4bbf-a4c2-485fd5a637d7",
   "metadata": {
    "tags": []
   },
   "outputs": [
    {
     "data": {
      "text/html": [
       "<div>\n",
       "<style scoped>\n",
       "    .dataframe tbody tr th:only-of-type {\n",
       "        vertical-align: middle;\n",
       "    }\n",
       "\n",
       "    .dataframe tbody tr th {\n",
       "        vertical-align: top;\n",
       "    }\n",
       "\n",
       "    .dataframe thead th {\n",
       "        text-align: right;\n",
       "    }\n",
       "</style>\n",
       "<table border=\"1\" class=\"dataframe\">\n",
       "  <thead>\n",
       "    <tr style=\"text-align: right;\">\n",
       "      <th></th>\n",
       "      <th>bathrooms</th>\n",
       "      <th>bedrooms</th>\n",
       "      <th>area</th>\n",
       "      <th>county</th>\n",
       "      <th>tax_amount</th>\n",
       "      <th>tax_value</th>\n",
       "      <th>year_built</th>\n",
       "    </tr>\n",
       "  </thead>\n",
       "  <tbody>\n",
       "    <tr>\n",
       "      <th>1657947</th>\n",
       "      <td>32.0</td>\n",
       "      <td>10.0</td>\n",
       "      <td>39170.0</td>\n",
       "      <td>6037.0</td>\n",
       "      <td>372142.72</td>\n",
       "      <td>31038350.0</td>\n",
       "      <td>2009.0</td>\n",
       "    </tr>\n",
       "  </tbody>\n",
       "</table>\n",
       "</div>"
      ],
      "text/plain": [
       "         bathrooms  bedrooms     area  county  tax_amount   tax_value  \\\n",
       "1657947       32.0      10.0  39170.0  6037.0   372142.72  31038350.0   \n",
       "\n",
       "         year_built  \n",
       "1657947      2009.0  "
      ]
     },
     "execution_count": 22,
     "metadata": {},
     "output_type": "execute_result"
    }
   ],
   "source": [
    "### wow that's a lot of bathrooms\n",
    "df[df['bathrooms'] == 32]"
   ]
  },
  {
   "cell_type": "markdown",
   "id": "d84e389d-5bc3-4487-a39e-4fe3436f6f40",
   "metadata": {},
   "source": [
    "<div class=\"alert alert-block alert-info\"> \n",
    "<b>NOTE:</b> \n",
    "\n",
    "We will want to confirm that we are dealing with whole numbers before we change floats to integers.\n",
    "\n",
    "\n",
    "In order to do this, we can create a simple for loop through our values for each column"
   ]
  },
  {
   "cell_type": "code",
   "execution_count": 23,
   "id": "c018f1da-2914-455f-a4ab-fbb45f3dd5ec",
   "metadata": {
    "collapsed": true,
    "jupyter": {
     "outputs_hidden": true
    },
    "tags": []
   },
   "outputs": [
    {
     "name": "stdout",
     "output_type": "stream",
     "text": [
      "bathrooms\n",
      "bathrooms\n",
      "0.00       4274\n",
      "0.50         16\n",
      "1.00     412582\n",
      "1.50      31157\n",
      "1.75          3\n",
      "2.00     942463\n",
      "2.50     142827\n",
      "3.00     422398\n",
      "3.50      28464\n",
      "4.00      82039\n",
      "4.50      19474\n",
      "5.00      28306\n",
      "5.50       6201\n",
      "6.00      10717\n",
      "6.50       1330\n",
      "7.00       4381\n",
      "7.50        382\n",
      "8.00       1681\n",
      "8.50        108\n",
      "9.00        707\n",
      "9.50         50\n",
      "10.00       322\n",
      "10.50        14\n",
      "11.00       145\n",
      "11.50         3\n",
      "12.00        73\n",
      "12.50         3\n",
      "13.00        39\n",
      "14.00        25\n",
      "14.50         1\n",
      "15.00        17\n",
      "16.00        12\n",
      "17.00         4\n",
      "18.00         8\n",
      "19.00         1\n",
      "19.50         1\n",
      "20.00         6\n",
      "32.00         1\n",
      "Name: count, dtype: int64\n",
      "\n",
      "bedrooms\n",
      "bedrooms\n",
      "0.0       4397\n",
      "1.0      22895\n",
      "2.0     334221\n",
      "3.0     962944\n",
      "4.0     633608\n",
      "5.0     150671\n",
      "6.0      25117\n",
      "7.0       4792\n",
      "8.0       1103\n",
      "9.0        290\n",
      "10.0       118\n",
      "11.0        34\n",
      "12.0        12\n",
      "13.0        15\n",
      "14.0         7\n",
      "15.0         5\n",
      "16.0         2\n",
      "18.0         3\n",
      "25.0         1\n",
      "Name: count, dtype: int64\n",
      "\n",
      "area\n",
      "area\n",
      "1.0         6\n",
      "2.0         2\n",
      "3.0         7\n",
      "7.0         1\n",
      "10.0        2\n",
      "           ..\n",
      "52503.0     1\n",
      "59220.0     1\n",
      "63692.0     1\n",
      "531118.0    1\n",
      "952576.0    1\n",
      "Name: count, Length: 10557, dtype: int64\n",
      "\n",
      "county\n",
      "county\n",
      "6037.0    1425207\n",
      "6059.0     552057\n",
      "6111.0     162971\n",
      "Name: count, dtype: int64\n",
      "\n",
      "tax_amount\n",
      "tax_amount\n",
      "6.34          1\n",
      "13.36         4\n",
      "13.44         1\n",
      "13.47         4\n",
      "13.48         1\n",
      "             ..\n",
      "824166.91     1\n",
      "841059.04     1\n",
      "994030.96     1\n",
      "1052070.50    1\n",
      "1078101.87    1\n",
      "Name: count, Length: 915868, dtype: int64\n",
      "\n",
      "tax_value\n",
      "tax_value\n",
      "22.0          10\n",
      "23.0           6\n",
      "31.0           1\n",
      "46.0           1\n",
      "101.0          1\n",
      "              ..\n",
      "70416358.0     1\n",
      "71067500.0     1\n",
      "83196095.0     1\n",
      "88020448.0     1\n",
      "90188462.0     1\n",
      "Name: count, Length: 588178, dtype: int64\n",
      "\n",
      "year_built\n",
      "year_built\n",
      "1801.0       3\n",
      "1807.0       1\n",
      "1812.0       2\n",
      "1823.0       1\n",
      "1833.0       1\n",
      "          ... \n",
      "2012.0    3431\n",
      "2013.0    4768\n",
      "2014.0    4706\n",
      "2015.0    3551\n",
      "2016.0      97\n",
      "Name: count, Length: 153, dtype: int64\n",
      "\n"
     ]
    }
   ],
   "source": [
    "#confrim whole numbers\n",
    "for col in df.columns:\n",
    "    print(col)\n",
    "    print(df[col].value_counts().sort_index())\n",
    "    print()"
   ]
  },
  {
   "cell_type": "code",
   "execution_count": 24,
   "id": "0a07db88-7013-4fad-b3d8-4c87c91d0ba7",
   "metadata": {
    "tags": []
   },
   "outputs": [],
   "source": [
    "### lambda function method\n",
    "has_non_zero_decimal = df['bathrooms'].apply(lambda x: x % 1 !=0)\n",
    "### checks for decimal values"
   ]
  },
  {
   "cell_type": "code",
   "execution_count": 25,
   "id": "c9958666-807d-4bc5-90fb-375f6fd748d3",
   "metadata": {
    "tags": []
   },
   "outputs": [
    {
     "data": {
      "text/plain": [
       "230034"
      ]
     },
     "execution_count": 25,
     "metadata": {},
     "output_type": "execute_result"
    }
   ],
   "source": [
    "has_non_zero_decimal.sum()\n",
    "### bathroom had 230,034 so keep as float\n",
    "### bedroom had 0 so change to int"
   ]
  },
  {
   "cell_type": "code",
   "execution_count": 35,
   "id": "561f8e2f-9fc6-4ca8-bd5f-5c72549616cc",
   "metadata": {
    "tags": []
   },
   "outputs": [
    {
     "name": "stdout",
     "output_type": "stream",
     "text": [
      "Count of Non-Zero Decimal Places in Each Column:\n",
      "bedrooms: 0\n",
      "bathrooms: 230034\n",
      "area: 0\n",
      "tax_value: 0\n",
      "year_built: 0\n",
      "tax_amount: 2111620\n",
      "county: 0\n"
     ]
    }
   ],
   "source": [
    "#put it all together for all the columns \n",
    "##so we can make sure those floats should be integers\n",
    "\n",
    "#include these columns\n",
    "columns_to_check = ['bedrooms', 'bathrooms', 'area', 'tax_value', 'year_built', 'tax_amount', 'county']\n",
    "\n",
    "# create a dictionary to store the count of non-zero decimal places for each column\n",
    "count_of_non_zero_decimal = {}\n",
    "\n",
    "# iterate through columns and check for non-zero decimal places\n",
    "for column in columns_to_check:\n",
    "    has_non_zero_decimal = (df[column] % 1 != 0).sum()\n",
    "    \n",
    "    # store the count in the dictionary\n",
    "    count_of_non_zero_decimal[column] = has_non_zero_decimal\n",
    "\n",
    "# display the count of non-zero decimal places for each column\n",
    "print(\"Count of Non-Zero Decimal Places in Each Column:\")\n",
    "for column, count in count_of_non_zero_decimal.items():\n",
    "    print(f\"{column}: {count}\")"
   ]
  },
  {
   "cell_type": "code",
   "execution_count": 36,
   "id": "15cbf36a-61bc-4d99-939c-78fd746e14e3",
   "metadata": {
    "tags": []
   },
   "outputs": [],
   "source": [
    "#columns we want to be integers\n",
    "make_ints = ['bedrooms', 'area', 'tax_amount', 'year_built', 'county']"
   ]
  },
  {
   "cell_type": "code",
   "execution_count": 37,
   "id": "af8f2aa8-f54e-4ce6-905e-4b41de88725f",
   "metadata": {
    "tags": []
   },
   "outputs": [],
   "source": [
    "#look through them to change the datatype\n",
    "for col in make_ints:\n",
    "    df[col] = df[col].astype(int)"
   ]
  },
  {
   "cell_type": "code",
   "execution_count": 38,
   "id": "05220b29-95c9-4138-bf34-373ce15ee181",
   "metadata": {
    "tags": []
   },
   "outputs": [
    {
     "data": {
      "text/plain": [
       "bathrooms     float64\n",
       "bedrooms        int64\n",
       "area            int64\n",
       "county          int64\n",
       "tax_amount      int64\n",
       "tax_value     float64\n",
       "year_built      int64\n",
       "dtype: object"
      ]
     },
     "execution_count": 38,
     "metadata": {},
     "output_type": "execute_result"
    }
   ],
   "source": [
    "df.dtypes"
   ]
  },
  {
   "cell_type": "markdown",
   "id": "bf4ce06a-bf84-4c27-8b50-f2f3aed6b55d",
   "metadata": {},
   "source": [
    "<div class=\"alert alert-block alert-info\"> \n",
    "<b>NOTE:</b> \n",
    "\n",
    "Fips is another feature we want to investigate\n",
    "\n",
    "- 6037: LA\n",
    "- 6059: Orange County\n",
    "- 6111: Ventura County\n"
   ]
  },
  {
   "cell_type": "code",
   "execution_count": 27,
   "id": "fe10cc69-2e88-42e1-9996-e1474a16ff31",
   "metadata": {
    "tags": []
   },
   "outputs": [],
   "source": [
    "df.county = df.county.map({6037:'LA', 6059:'Orange', 6111:'Ventura'})"
   ]
  },
  {
   "cell_type": "code",
   "execution_count": 28,
   "id": "51856be9-ab84-450f-936c-25b742e6e470",
   "metadata": {
    "tags": []
   },
   "outputs": [
    {
     "data": {
      "text/plain": [
       "4              LA\n",
       "6              LA\n",
       "7              LA\n",
       "11             LA\n",
       "14             LA\n",
       "            ...  \n",
       "2152856        LA\n",
       "2152858    Orange\n",
       "2152859    Orange\n",
       "2152861    Orange\n",
       "2152862        LA\n",
       "Name: county, Length: 2140235, dtype: object"
      ]
     },
     "execution_count": 28,
     "metadata": {},
     "output_type": "execute_result"
    }
   ],
   "source": [
    "df.county ### the 3 numbers assigned have now been given the name of the county!"
   ]
  },
  {
   "cell_type": "code",
   "execution_count": 40,
   "id": "7b5da326-7b7f-4d9a-be32-e0964cc0e6a8",
   "metadata": {
    "tags": []
   },
   "outputs": [
    {
     "data": {
      "text/html": [
       "<div>\n",
       "<style scoped>\n",
       "    .dataframe tbody tr th:only-of-type {\n",
       "        vertical-align: middle;\n",
       "    }\n",
       "\n",
       "    .dataframe tbody tr th {\n",
       "        vertical-align: top;\n",
       "    }\n",
       "\n",
       "    .dataframe thead th {\n",
       "        text-align: right;\n",
       "    }\n",
       "</style>\n",
       "<table border=\"1\" class=\"dataframe\">\n",
       "  <thead>\n",
       "    <tr style=\"text-align: right;\">\n",
       "      <th></th>\n",
       "      <th>bathrooms</th>\n",
       "      <th>bedrooms</th>\n",
       "      <th>area</th>\n",
       "      <th>county</th>\n",
       "      <th>tax_amount</th>\n",
       "      <th>tax_value</th>\n",
       "      <th>year_built</th>\n",
       "    </tr>\n",
       "  </thead>\n",
       "  <tbody>\n",
       "    <tr>\n",
       "      <th>180882</th>\n",
       "      <td>1.5</td>\n",
       "      <td>2</td>\n",
       "      <td>1270</td>\n",
       "      <td>6059</td>\n",
       "      <td>3095</td>\n",
       "      <td>259664.0</td>\n",
       "      <td>1972</td>\n",
       "    </tr>\n",
       "    <tr>\n",
       "      <th>1758330</th>\n",
       "      <td>3.0</td>\n",
       "      <td>4</td>\n",
       "      <td>3349</td>\n",
       "      <td>6037</td>\n",
       "      <td>4144</td>\n",
       "      <td>261122.0</td>\n",
       "      <td>1966</td>\n",
       "    </tr>\n",
       "    <tr>\n",
       "      <th>144356</th>\n",
       "      <td>3.0</td>\n",
       "      <td>3</td>\n",
       "      <td>2790</td>\n",
       "      <td>6037</td>\n",
       "      <td>7660</td>\n",
       "      <td>694646.0</td>\n",
       "      <td>1980</td>\n",
       "    </tr>\n",
       "    <tr>\n",
       "      <th>488556</th>\n",
       "      <td>1.0</td>\n",
       "      <td>2</td>\n",
       "      <td>858</td>\n",
       "      <td>6037</td>\n",
       "      <td>668</td>\n",
       "      <td>43650.0</td>\n",
       "      <td>1921</td>\n",
       "    </tr>\n",
       "    <tr>\n",
       "      <th>1676497</th>\n",
       "      <td>1.0</td>\n",
       "      <td>1</td>\n",
       "      <td>528</td>\n",
       "      <td>6059</td>\n",
       "      <td>1347</td>\n",
       "      <td>91350.0</td>\n",
       "      <td>1947</td>\n",
       "    </tr>\n",
       "    <tr>\n",
       "      <th>431196</th>\n",
       "      <td>2.0</td>\n",
       "      <td>4</td>\n",
       "      <td>1891</td>\n",
       "      <td>6111</td>\n",
       "      <td>2025</td>\n",
       "      <td>152840.0</td>\n",
       "      <td>1976</td>\n",
       "    </tr>\n",
       "    <tr>\n",
       "      <th>579566</th>\n",
       "      <td>3.0</td>\n",
       "      <td>6</td>\n",
       "      <td>3224</td>\n",
       "      <td>6059</td>\n",
       "      <td>7908</td>\n",
       "      <td>705080.0</td>\n",
       "      <td>1966</td>\n",
       "    </tr>\n",
       "    <tr>\n",
       "      <th>967056</th>\n",
       "      <td>2.0</td>\n",
       "      <td>4</td>\n",
       "      <td>1428</td>\n",
       "      <td>6059</td>\n",
       "      <td>883</td>\n",
       "      <td>56144.0</td>\n",
       "      <td>1966</td>\n",
       "    </tr>\n",
       "    <tr>\n",
       "      <th>1580762</th>\n",
       "      <td>2.5</td>\n",
       "      <td>3</td>\n",
       "      <td>1794</td>\n",
       "      <td>6059</td>\n",
       "      <td>2702</td>\n",
       "      <td>224525.0</td>\n",
       "      <td>1977</td>\n",
       "    </tr>\n",
       "    <tr>\n",
       "      <th>1717804</th>\n",
       "      <td>1.0</td>\n",
       "      <td>2</td>\n",
       "      <td>1417</td>\n",
       "      <td>6037</td>\n",
       "      <td>2356</td>\n",
       "      <td>175048.0</td>\n",
       "      <td>1951</td>\n",
       "    </tr>\n",
       "  </tbody>\n",
       "</table>\n",
       "</div>"
      ],
      "text/plain": [
       "         bathrooms  bedrooms  area  county  tax_amount  tax_value  year_built\n",
       "180882         1.5         2  1270    6059        3095   259664.0        1972\n",
       "1758330        3.0         4  3349    6037        4144   261122.0        1966\n",
       "144356         3.0         3  2790    6037        7660   694646.0        1980\n",
       "488556         1.0         2   858    6037         668    43650.0        1921\n",
       "1676497        1.0         1   528    6059        1347    91350.0        1947\n",
       "431196         2.0         4  1891    6111        2025   152840.0        1976\n",
       "579566         3.0         6  3224    6059        7908   705080.0        1966\n",
       "967056         2.0         4  1428    6059         883    56144.0        1966\n",
       "1580762        2.5         3  1794    6059        2702   224525.0        1977\n",
       "1717804        1.0         2  1417    6037        2356   175048.0        1951"
      ]
     },
     "execution_count": 40,
     "metadata": {},
     "output_type": "execute_result"
    }
   ],
   "source": [
    "df.sample(10)"
   ]
  },
  {
   "cell_type": "markdown",
   "id": "4d1c4b72-bac3-4672-ae84-92b474bc9dea",
   "metadata": {
    "tags": []
   },
   "source": [
    "<hr style='border:2px solid green'>"
   ]
  },
  {
   "cell_type": "markdown",
   "id": "2c08a4ce-4739-4d91-8fa1-9f081d34b522",
   "metadata": {},
   "source": [
    "### Visualize Our Data"
   ]
  },
  {
   "cell_type": "code",
   "execution_count": 46,
   "id": "92dbd887-5122-4b7e-afb5-78b6ba170dd8",
   "metadata": {
    "tags": []
   },
   "outputs": [
    {
     "data": {
      "image/png": "[encoded data removed]",
      "text/plain": [
       "<Figure size 2000x800 with 7 Axes>"
      ]
     },
     "metadata": {},
     "output_type": "display_data"
    }
   ],
   "source": [
    "plt.figure(figsize=(20,8))\n",
    "\n",
    "for i, col in enumerate(df.columns):\n",
    "    plot_number = i+1\n",
    "    plt.subplot(2,4, plot_number)\n",
    "    plt.title(col)\n",
    "    plt.hist(df[col])\n",
    "plt.show()"
   ]
  },
  {
   "cell_type": "code",
   "execution_count": 51,
   "id": "d62e0974-857d-487c-b2f3-5fa46a30dc0b",
   "metadata": {
    "tags": []
   },
   "outputs": [
    {
     "name": "stdout",
     "output_type": "stream",
     "text": [
      "bathrooms\n"
     ]
    },
    {
     "data": {
      "image/png": "[encoded data removed]",
      "text/plain": [
       "<Figure size 640x480 with 1 Axes>"
      ]
     },
     "metadata": {},
     "output_type": "display_data"
    },
    {
     "name": "stdout",
     "output_type": "stream",
     "text": [
      "bathrooms\n",
      "0.00       4274\n",
      "0.50         16\n",
      "1.00     412582\n",
      "1.50      31157\n",
      "1.75          3\n",
      "2.00     942463\n",
      "2.50     142827\n",
      "3.00     422398\n",
      "3.50      28464\n",
      "4.00      82039\n",
      "4.50      19474\n",
      "5.00      28306\n",
      "5.50       6201\n",
      "6.00      10717\n",
      "6.50       1330\n",
      "7.00       4381\n",
      "7.50        382\n",
      "8.00       1681\n",
      "8.50        108\n",
      "9.00        707\n",
      "9.50         50\n",
      "10.00       322\n",
      "10.50        14\n",
      "11.00       145\n",
      "11.50         3\n",
      "12.00        73\n",
      "12.50         3\n",
      "13.00        39\n",
      "14.00        25\n",
      "14.50         1\n",
      "15.00        17\n",
      "16.00        12\n",
      "17.00         4\n",
      "18.00         8\n",
      "19.00         1\n",
      "19.50         1\n",
      "20.00         6\n",
      "32.00         1\n",
      "Name: count, dtype: int64\n",
      "\n",
      "bedrooms\n"
     ]
    },
    {
     "data": {
      "image/png": "[encoded data removed]",
      "text/plain": [
       "<Figure size 640x480 with 1 Axes>"
      ]
     },
     "metadata": {},
     "output_type": "display_data"
    },
    {
     "name": "stdout",
     "output_type": "stream",
     "text": [
      "bedrooms\n",
      "0       4397\n",
      "1      22895\n",
      "2     334221\n",
      "3     962944\n",
      "4     633608\n",
      "5     150671\n",
      "6      25117\n",
      "7       4792\n",
      "8       1103\n",
      "9        290\n",
      "10       118\n",
      "11        34\n",
      "12        12\n",
      "13        15\n",
      "14         7\n",
      "15         5\n",
      "16         2\n",
      "18         3\n",
      "25         1\n",
      "Name: count, dtype: int64\n",
      "\n",
      "area\n"
     ]
    },
    {
     "data": {
      "image/png": "[encoded data removed]",
      "text/plain": [
       "<Figure size 640x480 with 1 Axes>"
      ]
     },
     "metadata": {},
     "output_type": "display_data"
    },
    {
     "name": "stdout",
     "output_type": "stream",
     "text": [
      "area\n",
      "1         6\n",
      "2         2\n",
      "3         7\n",
      "7         1\n",
      "10        2\n",
      "         ..\n",
      "52503     1\n",
      "59220     1\n",
      "63692     1\n",
      "531118    1\n",
      "952576    1\n",
      "Name: count, Length: 10557, dtype: int64\n",
      "\n",
      "tax_amount\n"
     ]
    },
    {
     "data": {
      "image/png": "[encoded data removed]",
      "text/plain": [
       "<Figure size 640x480 with 1 Axes>"
      ]
     },
     "metadata": {},
     "output_type": "display_data"
    },
    {
     "name": "stdout",
     "output_type": "stream",
     "text": [
      "tax_amount\n",
      "6           1\n",
      "13         15\n",
      "16          1\n",
      "18          2\n",
      "20          5\n",
      "           ..\n",
      "824166      1\n",
      "841059      1\n",
      "994030      1\n",
      "1052070     1\n",
      "1078101     1\n",
      "Name: count, Length: 46583, dtype: int64\n",
      "\n",
      "tax_value\n"
     ]
    },
    {
     "data": {
      "image/png": "[encoded data removed]",
      "text/plain": [
       "<Figure size 640x480 with 1 Axes>"
      ]
     },
     "metadata": {},
     "output_type": "display_data"
    },
    {
     "name": "stdout",
     "output_type": "stream",
     "text": [
      "tax_value\n",
      "22.0          10\n",
      "23.0           6\n",
      "31.0           1\n",
      "46.0           1\n",
      "101.0          1\n",
      "              ..\n",
      "70416358.0     1\n",
      "71067500.0     1\n",
      "83196095.0     1\n",
      "88020448.0     1\n",
      "90188462.0     1\n",
      "Name: count, Length: 588178, dtype: int64\n",
      "\n",
      "year_built\n"
     ]
    },
    {
     "data": {
      "image/png": "[encoded data removed]",
      "text/plain": [
       "<Figure size 640x480 with 1 Axes>"
      ]
     },
     "metadata": {},
     "output_type": "display_data"
    },
    {
     "name": "stdout",
     "output_type": "stream",
     "text": [
      "year_built\n",
      "1801       3\n",
      "1807       1\n",
      "1812       2\n",
      "1823       1\n",
      "1833       1\n",
      "        ... \n",
      "2012    3431\n",
      "2013    4768\n",
      "2014    4706\n",
      "2015    3551\n",
      "2016      97\n",
      "Name: count, Length: 153, dtype: int64\n",
      "\n"
     ]
    }
   ],
   "source": [
    "col_not_county = df.columns[:3].tolist() + df.columns[4:7].tolist()\n",
    "\n",
    "for col in col_not_county:\n",
    "    print(col)\n",
    "    sns.boxplot(data=df, x=col)\n",
    "    plt.show()\n",
    "    \n",
    "    print(df[col].value_counts().sort_index())\n",
    "    print()"
   ]
  },
  {
   "cell_type": "markdown",
   "id": "40eb8ac1-11a4-4afa-a3d8-f22a8fe567a2",
   "metadata": {},
   "source": [
    "## 3. Write a function to split your data into train, validate, and test."
   ]
  },
  {
   "cell_type": "code",
   "execution_count": 16,
   "id": "11ebd861-c26d-412e-9ce3-821398d3fc36",
   "metadata": {
    "tags": []
   },
   "outputs": [],
   "source": [
    "from sklearn.model_selection import train_test_split"
   ]
  },
  {
   "cell_type": "code",
   "execution_count": 26,
   "id": "002890dc-3ca7-46e5-80e6-7e4d3e90eb33",
   "metadata": {
    "tags": []
   },
   "outputs": [],
   "source": [
    "def splitting_data(df, seed=123): ### No longer needs the col key argument because we only stratify on Classification!\n",
    "    '''\n",
    "    Just like the splitting Titanic function but it can be used for any df now!\n",
    "    must provide the df and column. Does not clean it though\n",
    "    '''\n",
    "\n",
    "    #first split\n",
    "    train, validate_test = train_test_split(df,\n",
    "                     train_size=0.6,\n",
    "                     random_state=seed\n",
    "                     #stratify=df[col]\n",
    "                    )\n",
    "    \n",
    "    #second split\n",
    "    validate, test = train_test_split(validate_test,\n",
    "                                     train_size=0.5,\n",
    "                                      random_state=seed\n",
    "                                      #stratify=validate_test[col]\n",
    "                        \n",
    "                                     )\n",
    "    print(f'train ----> {train.shape} 60%')\n",
    "    print(f'validate -> {validate.shape}  20%')\n",
    "    print(f'test -----> {test.shape}  20%')\n",
    "    return train, validate, test"
   ]
  },
  {
   "cell_type": "code",
   "execution_count": 3,
   "id": "62e65cc1-10af-4bab-a3f8-ea4af18e95f3",
   "metadata": {
    "tags": []
   },
   "outputs": [
    {
     "name": "stdout",
     "output_type": "stream",
     "text": [
      "train ----> (1284141, 7) 60%\n",
      "validate -> (428047, 7)  20%\n",
      "test -----> (428047, 7)  20%\n"
     ]
    }
   ],
   "source": [
    "train, validate, test = w.splitting_data(df)"
   ]
  },
  {
   "cell_type": "code",
   "execution_count": 12,
   "id": "7d77ce65-dcba-46dc-bc49-33323643dd09",
   "metadata": {
    "tags": []
   },
   "outputs": [
    {
     "data": {
      "text/plain": [
       "(1284141, 7)"
      ]
     },
     "execution_count": 12,
     "metadata": {},
     "output_type": "execute_result"
    }
   ],
   "source": [
    "train.shape"
   ]
  },
  {
   "cell_type": "code",
   "execution_count": 11,
   "id": "5dc5c2be-3ce9-4f13-992e-7b8017ce75c9",
   "metadata": {
    "tags": []
   },
   "outputs": [
    {
     "data": {
      "text/plain": [
       "(428047, 7)"
      ]
     },
     "execution_count": 11,
     "metadata": {},
     "output_type": "execute_result"
    }
   ],
   "source": [
    "validate.shape"
   ]
  },
  {
   "cell_type": "code",
   "execution_count": 13,
   "id": "9f30a671-6846-4657-a6b2-1584b99ac87b",
   "metadata": {
    "tags": []
   },
   "outputs": [
    {
     "data": {
      "text/plain": [
       "(428047, 7)"
      ]
     },
     "execution_count": 13,
     "metadata": {},
     "output_type": "execute_result"
    }
   ],
   "source": [
    "test.shape"
   ]
  },
  {
   "cell_type": "markdown",
   "id": "1140ae8b-aa14-4884-b904-3220172ca5e3",
   "metadata": {},
   "source": [
    "## 4. Store all of the necessary functions to automate your process from acquiring the data to returning a cleaned dataframe with no missing values in your wrangle.py file. Name your final function wrangle_zillow."
   ]
  },
  {
   "cell_type": "code",
   "execution_count": 53,
   "id": "1bbd06cb-9c0e-44af-877c-3e038adccab5",
   "metadata": {
    "tags": []
   },
   "outputs": [],
   "source": [
    "import os"
   ]
  },
  {
   "cell_type": "code",
   "execution_count": 54,
   "id": "d04d55c3-7f5c-43d3-a3fa-c6bd4667b9a1",
   "metadata": {
    "tags": []
   },
   "outputs": [],
   "source": [
    "def get_zillow_data(): \n",
    "    '''\n",
    "    This function acquires zillow.csv if it is available.\n",
    "    If not, it'll make the MYSQL connection and use the query below to \n",
    "    read it in the datafram.\n",
    "    It'll also write/create the csv for next time.\n",
    "    '''\n",
    "    filename = 'zillow.csv'\n",
    "    \n",
    "    if os.path.isfile(filename):\n",
    "        return pd.read_csv(filename, index_col=0)\n",
    "    \n",
    "    else:\n",
    "        # Create the url\n",
    "        url = env.get_db_url('zillow')\n",
    "        \n",
    "        sql_query = '''\n",
    "        Select bathroomcnt,\n",
    "        bedroomcnt,\n",
    "        calculatedfinishedsquarefeet, \n",
    "        fips,\n",
    "        taxamount,\n",
    "        taxvaluedollarcnt,\n",
    "        yearbuilt\n",
    "        FROM properties_2017\n",
    "        WHERE propertylandusetypeid = '261'\n",
    "        '''\n",
    "    # Read the SQL query into a df\n",
    "    df = pd.read_sql(sql_query, url)\n",
    "    \n",
    "    # Write that df to disk for later. Called 'caching' the data for later.\n",
    "    df.to_csv(filename)\n",
    "    \n",
    "    # Return the dataframe to the calling code\n",
    "    return df"
   ]
  },
  {
   "cell_type": "code",
   "execution_count": 66,
   "id": "80976a5d-968d-4ff3-a472-6b30aafe72fd",
   "metadata": {
    "tags": []
   },
   "outputs": [],
   "source": [
    "def prep_zillow(df):\n",
    "    '''\n",
    "    This function; \n",
    "    - takes in a df\n",
    "    - renames the columns\n",
    "    - drops all null values\n",
    "    - changes datatypes for appropriate columns\n",
    "    - renames fips to actual county names.\n",
    "    - returns a clean df\n",
    "    '''\n",
    "    df = df.rename(columns={'bedroomcnt': 'bedrooms',\n",
    "                        'bathroomcnt': 'bathrooms',\n",
    "                        'calculatedfinishedsquarefeet': 'area',\n",
    "                        'taxamount': 'tax_amount',\n",
    "                        'taxvaluedollarcnt': 'tax_value',\n",
    "                        'yearbuilt': 'year_built',\n",
    "                        'fips': 'county'})\n",
    "    \n",
    "    df = df.dropna()\n",
    "    \n",
    "    make_ints = ['bedrooms', 'area', 'tax_value', 'year_built']\n",
    "    \n",
    "    for col in make_ints:\n",
    "        df[col] = df[col].astype(int)\n",
    "        \n",
    "    df.county = df.county.map({6037:'LA', 6059:'Orange', 6111:'Ventura'})\n",
    "    \n",
    "    return df"
   ]
  },
  {
   "cell_type": "code",
   "execution_count": 67,
   "id": "664041eb-dc2e-4e60-b1ea-af0bb838ef21",
   "metadata": {
    "tags": []
   },
   "outputs": [],
   "source": [
    "df = get_zillow_data()"
   ]
  },
  {
   "cell_type": "code",
   "execution_count": 68,
   "id": "1e789266-e3a7-425f-a8cd-04abdccf86af",
   "metadata": {
    "tags": []
   },
   "outputs": [
    {
     "data": {
      "text/html": [
       "<div>\n",
       "<style scoped>\n",
       "    .dataframe tbody tr th:only-of-type {\n",
       "        vertical-align: middle;\n",
       "    }\n",
       "\n",
       "    .dataframe tbody tr th {\n",
       "        vertical-align: top;\n",
       "    }\n",
       "\n",
       "    .dataframe thead th {\n",
       "        text-align: right;\n",
       "    }\n",
       "</style>\n",
       "<table border=\"1\" class=\"dataframe\">\n",
       "  <thead>\n",
       "    <tr style=\"text-align: right;\">\n",
       "      <th></th>\n",
       "      <th>bathroomcnt</th>\n",
       "      <th>bedroomcnt</th>\n",
       "      <th>calculatedfinishedsquarefeet</th>\n",
       "      <th>fips</th>\n",
       "      <th>taxamount</th>\n",
       "      <th>taxvaluedollarcnt</th>\n",
       "      <th>yearbuilt</th>\n",
       "    </tr>\n",
       "  </thead>\n",
       "  <tbody>\n",
       "    <tr>\n",
       "      <th>0</th>\n",
       "      <td>0.0</td>\n",
       "      <td>0.0</td>\n",
       "      <td>NaN</td>\n",
       "      <td>6037.0</td>\n",
       "      <td>NaN</td>\n",
       "      <td>27516.0</td>\n",
       "      <td>NaN</td>\n",
       "    </tr>\n",
       "    <tr>\n",
       "      <th>1</th>\n",
       "      <td>0.0</td>\n",
       "      <td>0.0</td>\n",
       "      <td>NaN</td>\n",
       "      <td>6037.0</td>\n",
       "      <td>NaN</td>\n",
       "      <td>10.0</td>\n",
       "      <td>NaN</td>\n",
       "    </tr>\n",
       "    <tr>\n",
       "      <th>2</th>\n",
       "      <td>0.0</td>\n",
       "      <td>0.0</td>\n",
       "      <td>NaN</td>\n",
       "      <td>6037.0</td>\n",
       "      <td>NaN</td>\n",
       "      <td>10.0</td>\n",
       "      <td>NaN</td>\n",
       "    </tr>\n",
       "  </tbody>\n",
       "</table>\n",
       "</div>"
      ],
      "text/plain": [
       "   bathroomcnt  bedroomcnt  calculatedfinishedsquarefeet    fips  taxamount  \\\n",
       "0          0.0         0.0                           NaN  6037.0        NaN   \n",
       "1          0.0         0.0                           NaN  6037.0        NaN   \n",
       "2          0.0         0.0                           NaN  6037.0        NaN   \n",
       "\n",
       "   taxvaluedollarcnt  yearbuilt  \n",
       "0            27516.0        NaN  \n",
       "1               10.0        NaN  \n",
       "2               10.0        NaN  "
      ]
     },
     "execution_count": 68,
     "metadata": {},
     "output_type": "execute_result"
    }
   ],
   "source": [
    "df.head(3)"
   ]
  },
  {
   "cell_type": "code",
   "execution_count": 69,
   "id": "091664b3-968c-4a36-8f0f-a8361b17aee9",
   "metadata": {
    "tags": []
   },
   "outputs": [],
   "source": [
    "def wrangle_zillow():\n",
    "    '''\n",
    "    This function;\n",
    "    - uses the get_zillo_data() function to acquire the Zillow data\n",
    "    - uses the prep_zillo(df) function to prepare the Zillow data\n",
    "    - return the clean df\n",
    "    '''\n",
    "    df = prep_zillow(get_zillow_data())\n",
    "    return df"
   ]
  },
  {
   "cell_type": "code",
   "execution_count": 2,
   "id": "3dc434d5-3d7d-49e3-a41a-15319f9ae3fe",
   "metadata": {
    "tags": []
   },
   "outputs": [],
   "source": [
    "df = w.wrangle_zillow()"
   ]
  },
  {
   "cell_type": "code",
   "execution_count": 5,
   "id": "b885d55c-47f3-4d2c-8a48-c6bcea39d448",
   "metadata": {
    "tags": []
   },
   "outputs": [
    {
     "name": "stdout",
     "output_type": "stream",
     "text": [
      "<class 'pandas.core.frame.DataFrame'>\n",
      "Index: 2140235 entries, 4 to 2152862\n",
      "Data columns (total 7 columns):\n",
      " #   Column      Non-Null Count    Dtype  \n",
      "---  ------      --------------    -----  \n",
      " 0   bathrooms   2140235 non-null  float64\n",
      " 1   bedrooms    2140235 non-null  int64  \n",
      " 2   area        2140235 non-null  int64  \n",
      " 3   county      2140235 non-null  object \n",
      " 4   tax_amount  2140235 non-null  float64\n",
      " 5   tax_value   2140235 non-null  int64  \n",
      " 6   year_built  2140235 non-null  int64  \n",
      "dtypes: float64(2), int64(4), object(1)\n",
      "memory usage: 130.6+ MB\n"
     ]
    }
   ],
   "source": [
    "df.info(verbose=True, show_counts=True)"
   ]
  },
  {
   "cell_type": "code",
   "execution_count": null,
   "id": "a7764ff4-27c1-4d36-a29d-856ecd067dcc",
   "metadata": {},
   "outputs": [],
   "source": []
  }
 ],
 "metadata": {
  "kernelspec": {
   "display_name": "Python 3 (ipykernel)",
   "language": "python",
   "name": "python3"
  },
  "language_info": {
   "codemirror_mode": {
    "name": "ipython",
    "version": 3
   },
   "file_extension": ".py",
   "mimetype": "text/x-python",
   "name": "python",
   "nbconvert_exporter": "python",
   "pygments_lexer": "ipython3",
   "version": "3.11.5"
  }
 },
 "nbformat": 4,
 "nbformat_minor": 5
}
